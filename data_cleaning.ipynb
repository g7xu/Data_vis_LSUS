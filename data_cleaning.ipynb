{
 "cells": [
  {
   "cell_type": "code",
   "execution_count": 70,
   "metadata": {},
   "outputs": [],
   "source": [
    "import pandas as pd\n",
    "import numpy as np"
   ]
  },
  {
   "cell_type": "code",
   "execution_count": 71,
   "metadata": {},
   "outputs": [],
   "source": [
    "TARGET_COUNTY = {\n",
    "    'San Diego County, CA' : 'San Diego',\n",
    "    'San Francisco County, CA' : 'San Francisco',\n",
    "    'Miami-Dade County, FL' : 'Miami',\n",
    "    'Cook County, IL' : 'Chicago',\n",
    "    'New York County, NY' : 'New York City',\n",
    "    'Harris County, TX' : 'Houston'\n",
    "}"
   ]
  },
  {
   "cell_type": "code",
   "execution_count": 72,
   "metadata": {},
   "outputs": [],
   "source": [
    "# importing all the data\n",
    "weather_data = pd.read_csv('assests/weather.csv')\n",
    "life_expectancy_data = pd.read_csv('assests/U.S._Life_Expectancy_at_Birth_by_State_and_Census_Tract_-_2010-2015.csv')"
   ]
  },
  {
   "cell_type": "code",
   "execution_count": 73,
   "metadata": {},
   "outputs": [],
   "source": [
    "# cleaning weather_data \n",
    "weather_data_cleaned = weather_data.drop(columns=['lat', 'lon', 'rain'])\n",
    "\n",
    "# cleaning life_expectancy_data\n",
    "\n",
    "## finding target counties and retain neccessary informations\n",
    "life_expectancy_data_cleaned = life_expectancy_data[life_expectancy_data['County'].apply(lambda country: country in TARGET_COUNTY)]\n",
    "life_expectancy_data_cleaned = life_expectancy_data_cleaned.drop(columns=['State', 'Census Tract Number'])\n",
    "\n",
    "## drop missing value and outliers\n",
    "life_expectancy_data_cleaned = life_expectancy_data_cleaned.dropna(subset=['Life Expectancy'])\n",
    "life_expectancy_data_cleaned = life_expectancy_data_cleaned[life_expectancy_data_cleaned['Life Expectancy Standard Error'] < 3.78]\n",
    "\n",
    "## converting county name to foregin key name\n",
    "life_expectancy_data_cleaned['County'] = life_expectancy_data_cleaned['County'].apply(lambda spe_name : TARGET_COUNTY[spe_name])"
   ]
  },
  {
   "cell_type": "code",
   "execution_count": 76,
   "metadata": {},
   "outputs": [],
   "source": [
    "# save the cleaned_data\n",
    "life_expectancy_data_cleaned.to_csv('cleaned_data/life_expectancy_data_cleaned.csv', index=False)\n",
    "weather_data_cleaned.to_csv('cleaned_data/weather_data_cleaned.csv', index=False)"
   ]
  }
 ],
 "metadata": {
  "kernelspec": {
   "display_name": "dsc80",
   "language": "python",
   "name": "python3"
  },
  "language_info": {
   "codemirror_mode": {
    "name": "ipython",
    "version": 3
   },
   "file_extension": ".py",
   "mimetype": "text/x-python",
   "name": "python",
   "nbconvert_exporter": "python",
   "pygments_lexer": "ipython3",
   "version": "3.8.19"
  }
 },
 "nbformat": 4,
 "nbformat_minor": 2
}
